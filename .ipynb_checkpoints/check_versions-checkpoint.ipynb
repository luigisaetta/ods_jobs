{
 "cells": [
  {
   "cell_type": "markdown",
   "id": "b577e44a",
   "metadata": {},
   "source": []
  },
  {
   "cell_type": "code",
   "execution_count": 3,
   "id": "7360dff1",
   "metadata": {},
   "outputs": [],
   "source": [
    "import ocifs\n",
    "import ads\n",
    "import oci\n",
    "import tensorflow as tf"
   ]
  },
  {
   "cell_type": "code",
   "execution_count": 4,
   "id": "38729ec6",
   "metadata": {},
   "outputs": [
    {
     "name": "stdout",
     "output_type": "stream",
     "text": [
      "ocifs version: 0.2.0\n",
      "ads version: 2.5.0\n",
      "oci version: 2.50.0\n",
      "tf version: 2.7.0\n"
     ]
    }
   ],
   "source": [
    "print('ocifs version:', ocifs.__version__)\n",
    "print('ads version:', ads.__version__)\n",
    "print('oci version:', oci.__version__)\n",
    "print('tf version:', tf.__version__)"
   ]
  },
  {
   "cell_type": "code",
   "execution_count": null,
   "id": "3cb8c117",
   "metadata": {},
   "outputs": [],
   "source": []
  }
 ],
 "metadata": {
  "kernelspec": {
   "display_name": "Python [conda env:tensorflow27_p37_cpu_v1]",
   "language": "python",
   "name": "conda-env-tensorflow27_p37_cpu_v1-py"
  },
  "language_info": {
   "codemirror_mode": {
    "name": "ipython",
    "version": 3
   },
   "file_extension": ".py",
   "mimetype": "text/x-python",
   "name": "python",
   "nbconvert_exporter": "python",
   "pygments_lexer": "ipython3",
   "version": "3.7.12"
  }
 },
 "nbformat": 4,
 "nbformat_minor": 5
}
